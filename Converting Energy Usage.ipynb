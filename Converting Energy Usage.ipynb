{
 "cells": [
  {
   "cell_type": "code",
   "execution_count": 1,
   "metadata": {},
   "outputs": [],
   "source": [
    "import pandas as pd\n",
    "from datetime import datetime"
   ]
  },
  {
   "cell_type": "code",
   "execution_count": 2,
   "metadata": {},
   "outputs": [],
   "source": [
    "def convert_timestamp(unix_timestamp):\n",
    "    return datetime.utcfromtimestamp(int(unix_timestamp)).strftime('%Y-%m-%d')"
   ]
  },
  {
   "cell_type": "code",
   "execution_count": 3,
   "metadata": {},
   "outputs": [],
   "source": [
    "df = pd.read_csv('Energy Usage.csv')"
   ]
  },
  {
   "cell_type": "code",
   "execution_count": 4,
   "metadata": {},
   "outputs": [
    {
     "data": {
      "text/html": "<div>\n<style scoped>\n    .dataframe tbody tr th:only-of-type {\n        vertical-align: middle;\n    }\n\n    .dataframe tbody tr th {\n        vertical-align: top;\n    }\n\n    .dataframe thead th {\n        text-align: right;\n    }\n</style>\n<table border=\"1\" class=\"dataframe\">\n  <thead>\n    <tr style=\"text-align: right;\">\n      <th></th>\n      <th>timePeriod/start/__text</th>\n      <th>readingQuality/__text</th>\n      <th>value/__text</th>\n    </tr>\n  </thead>\n  <tbody>\n    <tr>\n      <th>0</th>\n      <td>1662440400</td>\n      <td>ACTUAL</td>\n      <td>0.01</td>\n    </tr>\n    <tr>\n      <th>1</th>\n      <td>1662442200</td>\n      <td>ACTUAL</td>\n      <td>0.10</td>\n    </tr>\n    <tr>\n      <th>2</th>\n      <td>1662444000</td>\n      <td>ACTUAL</td>\n      <td>0.13</td>\n    </tr>\n    <tr>\n      <th>3</th>\n      <td>1662445800</td>\n      <td>ACTUAL</td>\n      <td>0.15</td>\n    </tr>\n    <tr>\n      <th>4</th>\n      <td>1662447600</td>\n      <td>ACTUAL</td>\n      <td>0.01</td>\n    </tr>\n    <tr>\n      <th>...</th>\n      <td>...</td>\n      <td>...</td>\n      <td>...</td>\n    </tr>\n    <tr>\n      <th>21019</th>\n      <td>1700274600</td>\n      <td>ACTUAL</td>\n      <td>1.08</td>\n    </tr>\n    <tr>\n      <th>21020</th>\n      <td>1700276400</td>\n      <td>ACTUAL</td>\n      <td>2.68</td>\n    </tr>\n    <tr>\n      <th>21021</th>\n      <td>1700278200</td>\n      <td>ACTUAL</td>\n      <td>1.56</td>\n    </tr>\n    <tr>\n      <th>21022</th>\n      <td>1700280000</td>\n      <td>ACTUAL</td>\n      <td>0.78</td>\n    </tr>\n    <tr>\n      <th>21023</th>\n      <td>1700281800</td>\n      <td>ACTUAL</td>\n      <td>0.39</td>\n    </tr>\n  </tbody>\n</table>\n<p>21024 rows × 3 columns</p>\n</div>",
      "text/plain": "       timePeriod/start/__text readingQuality/__text  value/__text\n0                   1662440400                ACTUAL          0.01\n1                   1662442200                ACTUAL          0.10\n2                   1662444000                ACTUAL          0.13\n3                   1662445800                ACTUAL          0.15\n4                   1662447600                ACTUAL          0.01\n...                        ...                   ...           ...\n21019               1700274600                ACTUAL          1.08\n21020               1700276400                ACTUAL          2.68\n21021               1700278200                ACTUAL          1.56\n21022               1700280000                ACTUAL          0.78\n21023               1700281800                ACTUAL          0.39\n\n[21024 rows x 3 columns]"
     },
     "execution_count": 4,
     "metadata": {},
     "output_type": "execute_result"
    }
   ],
   "source": [
    "df"
   ]
  },
  {
   "cell_type": "code",
   "execution_count": 5,
   "metadata": {},
   "outputs": [],
   "source": [
    "df['timePeriod/start/__text'] = df['timePeriod/start/__text'].apply(convert_timestamp)"
   ]
  },
  {
   "cell_type": "code",
   "execution_count": 6,
   "metadata": {},
   "outputs": [],
   "source": [
    "df['datetime'] = df['timePeriod/start/__text']\n",
    "df['energy_used'] = df['value/__text']"
   ]
  },
  {
   "cell_type": "code",
   "execution_count": 7,
   "metadata": {},
   "outputs": [],
   "source": [
    "df.drop(df.columns[0:3], axis = 1, inplace = True)"
   ]
  },
  {
   "cell_type": "code",
   "execution_count": 8,
   "metadata": {},
   "outputs": [],
   "source": [
    "df['datetime'] = pd.to_datetime(df['datetime']).dt.normalize()"
   ]
  },
  {
   "cell_type": "code",
   "execution_count": 9,
   "metadata": {},
   "outputs": [],
   "source": [
    "daily_totals = df.groupby('datetime')['energy_used'].sum().reset_index()"
   ]
  },
  {
   "cell_type": "code",
   "execution_count": 10,
   "metadata": {},
   "outputs": [
    {
     "data": {
      "text/html": "<div>\n<style scoped>\n    .dataframe tbody tr th:only-of-type {\n        vertical-align: middle;\n    }\n\n    .dataframe tbody tr th {\n        vertical-align: top;\n    }\n\n    .dataframe thead th {\n        text-align: right;\n    }\n</style>\n<table border=\"1\" class=\"dataframe\">\n  <thead>\n    <tr style=\"text-align: right;\">\n      <th></th>\n      <th>datetime</th>\n      <th>energy_used</th>\n    </tr>\n  </thead>\n  <tbody>\n    <tr>\n      <th>0</th>\n      <td>2022-09-06</td>\n      <td>5.92</td>\n    </tr>\n    <tr>\n      <th>1</th>\n      <td>2022-09-07</td>\n      <td>19.29</td>\n    </tr>\n    <tr>\n      <th>2</th>\n      <td>2022-09-08</td>\n      <td>9.60</td>\n    </tr>\n    <tr>\n      <th>3</th>\n      <td>2022-09-09</td>\n      <td>13.39</td>\n    </tr>\n    <tr>\n      <th>4</th>\n      <td>2022-09-10</td>\n      <td>20.15</td>\n    </tr>\n    <tr>\n      <th>...</th>\n      <td>...</td>\n      <td>...</td>\n    </tr>\n    <tr>\n      <th>434</th>\n      <td>2023-11-14</td>\n      <td>15.66</td>\n    </tr>\n    <tr>\n      <th>435</th>\n      <td>2023-11-15</td>\n      <td>11.67</td>\n    </tr>\n    <tr>\n      <th>436</th>\n      <td>2023-11-16</td>\n      <td>8.71</td>\n    </tr>\n    <tr>\n      <th>437</th>\n      <td>2023-11-17</td>\n      <td>12.10</td>\n    </tr>\n    <tr>\n      <th>438</th>\n      <td>2023-11-18</td>\n      <td>9.45</td>\n    </tr>\n  </tbody>\n</table>\n<p>439 rows × 2 columns</p>\n</div>",
      "text/plain": "      datetime  energy_used\n0   2022-09-06         5.92\n1   2022-09-07        19.29\n2   2022-09-08         9.60\n3   2022-09-09        13.39\n4   2022-09-10        20.15\n..         ...          ...\n434 2023-11-14        15.66\n435 2023-11-15        11.67\n436 2023-11-16         8.71\n437 2023-11-17        12.10\n438 2023-11-18         9.45\n\n[439 rows x 2 columns]"
     },
     "execution_count": 10,
     "metadata": {},
     "output_type": "execute_result"
    }
   ],
   "source": [
    "daily_totals"
   ]
  },
  {
   "cell_type": "code",
   "execution_count": 11,
   "metadata": {},
   "outputs": [],
   "source": [
    "daily_totals.to_csv('energy_final.csv', index = False)"
   ]
  }
 ],
 "metadata": {
  "kernelspec": {
   "display_name": "Python 3.9.5 64-bit",
   "name": "python395jvsc74a57bd0aee8b7b246df8f9039afb4144a1f6fd8d2ca17a180786b69acc140d282b71a49"
  },
  "language_info": {
   "codemirror_mode": {
    "name": "ipython",
    "version": 3
   },
   "file_extension": ".py",
   "mimetype": "text/x-python",
   "name": "python",
   "nbconvert_exporter": "python",
   "pygments_lexer": "ipython3",
   "version": "3.9.5"
  },
  "metadata": {
   "interpreter": {
    "hash": "aee8b7b246df8f9039afb4144a1f6fd8d2ca17a180786b69acc140d282b71a49"
   }
  },
  "orig_nbformat": 3
 },
 "nbformat": 4,
 "nbformat_minor": 2
}